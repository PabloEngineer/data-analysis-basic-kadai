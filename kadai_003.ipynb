{
  "cells": [
    {
      "cell_type": "code",
      "execution_count": null,
      "metadata": {
        "id": "-IRpug1qjgUV"
      },
      "outputs": [],
      "source": []
    },
    {
      "cell_type": "code",
      "execution_count": 1,
      "metadata": {
        "colab": {
          "base_uri": "https://localhost:8080/"
        },
        "id": "IqzhuUuqXvw5",
        "outputId": "58b80d9d-3d49-46b1-ecdd-bc0f72af2842"
      },
      "outputs": [
        {
          "name": "stdout",
          "output_type": "stream",
          "text": [
            "[[ 4  5  6  7]\n",
            " [12 17 22 27]\n",
            " [20 29 38 47]]\n",
            "{47}\n"
          ]
        }
      ],
      "source": [
        "import numpy as np\n",
        "a=np.array([[0,1],[2,3],[4,5]])\n",
        "b=np.array([[0,1,2,3],[4,5,6,7]])\n",
        "result_matrix=np.dot(a,b)\n",
        "max_value=np.max(result_matrix)\n",
        "\n",
        "print(result_matrix)\n",
        "print({max_value})\n"
      ]
    }
  ],
  "metadata": {
    "colab": {
      "provenance": []
    },
    "kernelspec": {
      "display_name": "Python 3",
      "name": "python3"
    },
    "language_info": {
      "name": "python"
    }
  },
  "nbformat": 4,
  "nbformat_minor": 0
}
